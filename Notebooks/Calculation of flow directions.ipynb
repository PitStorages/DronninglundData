{
 "cells": [
  {
   "cell_type": "markdown",
   "id": "7da2ca19-d213-4687-bbec-8c0c4e65c49b",
   "metadata": {},
   "source": [
    "# Flow magnitude and direction calculation for Dronninglund PTES\n",
    "\n",
    "Import the required libraries for the script."
   ]
  },
  {
   "cell_type": "code",
   "execution_count": 1,
   "id": "cognitive-romantic",
   "metadata": {},
   "outputs": [],
   "source": [
    "import pandas as pd\n",
    "import numpy as np\n",
    "import matplotlib.pyplot as plt\n",
    "import datetime as dt\n",
    "import glob\n",
    "import os\n",
    "import requests"
   ]
  },
  {
   "cell_type": "markdown",
   "id": "a552c31f-e3ed-44e8-a69b-efc1cf515458",
   "metadata": {},
   "source": [
    "Set font type and size for figure plotting."
   ]
  },
  {
   "cell_type": "code",
   "execution_count": 3,
   "id": "2bb903a5-dc2c-4a87-b286-68760f005f18",
   "metadata": {},
   "outputs": [],
   "source": [
    "plt.rcParams.update({'font.size': 9}) # set the font size\n",
    "plt.rcParams[\"font.family\"] = \"Times New Roman\" # select font type"
   ]
  },
  {
   "cell_type": "markdown",
   "id": "347c985e-5dfa-4978-b953-7e544cac0bf6",
   "metadata": {},
   "source": [
    "Read pickle containing data in a Pandas dataframe. Assuming that the data are in the same folder as the script, the name of the file can be called directly."
   ]
  },
  {
   "cell_type": "code",
   "execution_count": 17,
   "id": "focused-courtesy",
   "metadata": {
    "scrolled": true
   },
   "outputs": [
    {
     "data": {
      "text/html": [
       "<div>\n",
       "<style scoped>\n",
       "    .dataframe tbody tr th:only-of-type {\n",
       "        vertical-align: middle;\n",
       "    }\n",
       "\n",
       "    .dataframe tbody tr th {\n",
       "        vertical-align: top;\n",
       "    }\n",
       "\n",
       "    .dataframe thead th {\n",
       "        text-align: right;\n",
       "    }\n",
       "</style>\n",
       "<table border=\"1\" class=\"dataframe\">\n",
       "  <thead>\n",
       "    <tr style=\"text-align: right;\">\n",
       "      <th></th>\n",
       "      <th>SO.DA.ET.422.5</th>\n",
       "      <th>SO.DA.HT.422.1.F</th>\n",
       "      <th>SO.DA.HT.422.1.T</th>\n",
       "      <th>SO.DA.HT.422.2.F</th>\n",
       "      <th>SO.DA.HT.422.2.T</th>\n",
       "      <th>SO.DA.LT.421</th>\n",
       "      <th>T_00.5</th>\n",
       "      <th>T_01.5</th>\n",
       "      <th>T_02.5</th>\n",
       "      <th>T_03.5</th>\n",
       "      <th>...</th>\n",
       "      <th>SO.TR.MV.242.VS</th>\n",
       "      <th>SO.TR.PT.443</th>\n",
       "      <th>SO.TR.PT.444</th>\n",
       "      <th>SO.TR.TT.419</th>\n",
       "      <th>SO.TR.TT.420</th>\n",
       "      <th>SO.TR.TT.421</th>\n",
       "      <th>SO.TR.TT.430</th>\n",
       "      <th>SO.VP.TT.454</th>\n",
       "      <th>temp_dry</th>\n",
       "      <th>radia_glob</th>\n",
       "    </tr>\n",
       "  </thead>\n",
       "  <tbody>\n",
       "    <tr>\n",
       "      <th>2014-01-01 01:00:00+01:00</th>\n",
       "      <td>NaN</td>\n",
       "      <td>NaN</td>\n",
       "      <td>NaN</td>\n",
       "      <td>NaN</td>\n",
       "      <td>NaN</td>\n",
       "      <td>NaN</td>\n",
       "      <td>NaN</td>\n",
       "      <td>NaN</td>\n",
       "      <td>NaN</td>\n",
       "      <td>NaN</td>\n",
       "      <td>...</td>\n",
       "      <td>NaN</td>\n",
       "      <td>NaN</td>\n",
       "      <td>NaN</td>\n",
       "      <td>NaN</td>\n",
       "      <td>NaN</td>\n",
       "      <td>NaN</td>\n",
       "      <td>NaN</td>\n",
       "      <td>NaN</td>\n",
       "      <td>4.2</td>\n",
       "      <td>0.0</td>\n",
       "    </tr>\n",
       "    <tr>\n",
       "      <th>2014-01-01 01:10:00+01:00</th>\n",
       "      <td>NaN</td>\n",
       "      <td>NaN</td>\n",
       "      <td>NaN</td>\n",
       "      <td>NaN</td>\n",
       "      <td>NaN</td>\n",
       "      <td>NaN</td>\n",
       "      <td>NaN</td>\n",
       "      <td>NaN</td>\n",
       "      <td>NaN</td>\n",
       "      <td>NaN</td>\n",
       "      <td>...</td>\n",
       "      <td>NaN</td>\n",
       "      <td>NaN</td>\n",
       "      <td>NaN</td>\n",
       "      <td>NaN</td>\n",
       "      <td>NaN</td>\n",
       "      <td>NaN</td>\n",
       "      <td>NaN</td>\n",
       "      <td>NaN</td>\n",
       "      <td>4.2</td>\n",
       "      <td>0.0</td>\n",
       "    </tr>\n",
       "    <tr>\n",
       "      <th>2014-01-01 01:20:00+01:00</th>\n",
       "      <td>NaN</td>\n",
       "      <td>NaN</td>\n",
       "      <td>NaN</td>\n",
       "      <td>NaN</td>\n",
       "      <td>NaN</td>\n",
       "      <td>NaN</td>\n",
       "      <td>NaN</td>\n",
       "      <td>NaN</td>\n",
       "      <td>NaN</td>\n",
       "      <td>NaN</td>\n",
       "      <td>...</td>\n",
       "      <td>NaN</td>\n",
       "      <td>NaN</td>\n",
       "      <td>NaN</td>\n",
       "      <td>NaN</td>\n",
       "      <td>NaN</td>\n",
       "      <td>NaN</td>\n",
       "      <td>NaN</td>\n",
       "      <td>NaN</td>\n",
       "      <td>4.1</td>\n",
       "      <td>0.0</td>\n",
       "    </tr>\n",
       "    <tr>\n",
       "      <th>2014-01-01 01:30:00+01:00</th>\n",
       "      <td>NaN</td>\n",
       "      <td>NaN</td>\n",
       "      <td>NaN</td>\n",
       "      <td>NaN</td>\n",
       "      <td>NaN</td>\n",
       "      <td>NaN</td>\n",
       "      <td>NaN</td>\n",
       "      <td>NaN</td>\n",
       "      <td>NaN</td>\n",
       "      <td>NaN</td>\n",
       "      <td>...</td>\n",
       "      <td>NaN</td>\n",
       "      <td>NaN</td>\n",
       "      <td>NaN</td>\n",
       "      <td>NaN</td>\n",
       "      <td>NaN</td>\n",
       "      <td>NaN</td>\n",
       "      <td>NaN</td>\n",
       "      <td>NaN</td>\n",
       "      <td>4.1</td>\n",
       "      <td>0.0</td>\n",
       "    </tr>\n",
       "    <tr>\n",
       "      <th>2014-01-01 01:40:00+01:00</th>\n",
       "      <td>NaN</td>\n",
       "      <td>NaN</td>\n",
       "      <td>NaN</td>\n",
       "      <td>NaN</td>\n",
       "      <td>NaN</td>\n",
       "      <td>NaN</td>\n",
       "      <td>NaN</td>\n",
       "      <td>NaN</td>\n",
       "      <td>NaN</td>\n",
       "      <td>NaN</td>\n",
       "      <td>...</td>\n",
       "      <td>NaN</td>\n",
       "      <td>NaN</td>\n",
       "      <td>NaN</td>\n",
       "      <td>NaN</td>\n",
       "      <td>NaN</td>\n",
       "      <td>NaN</td>\n",
       "      <td>NaN</td>\n",
       "      <td>NaN</td>\n",
       "      <td>4.0</td>\n",
       "      <td>0.0</td>\n",
       "    </tr>\n",
       "  </tbody>\n",
       "</table>\n",
       "<p>5 rows × 157 columns</p>\n",
       "</div>"
      ],
      "text/plain": [
       "                           SO.DA.ET.422.5  SO.DA.HT.422.1.F  SO.DA.HT.422.1.T  \\\n",
       "2014-01-01 01:00:00+01:00             NaN               NaN               NaN   \n",
       "2014-01-01 01:10:00+01:00             NaN               NaN               NaN   \n",
       "2014-01-01 01:20:00+01:00             NaN               NaN               NaN   \n",
       "2014-01-01 01:30:00+01:00             NaN               NaN               NaN   \n",
       "2014-01-01 01:40:00+01:00             NaN               NaN               NaN   \n",
       "\n",
       "                           SO.DA.HT.422.2.F  SO.DA.HT.422.2.T  SO.DA.LT.421  \\\n",
       "2014-01-01 01:00:00+01:00               NaN               NaN           NaN   \n",
       "2014-01-01 01:10:00+01:00               NaN               NaN           NaN   \n",
       "2014-01-01 01:20:00+01:00               NaN               NaN           NaN   \n",
       "2014-01-01 01:30:00+01:00               NaN               NaN           NaN   \n",
       "2014-01-01 01:40:00+01:00               NaN               NaN           NaN   \n",
       "\n",
       "                           T_00.5  T_01.5  T_02.5  T_03.5  ...  \\\n",
       "2014-01-01 01:00:00+01:00     NaN     NaN     NaN     NaN  ...   \n",
       "2014-01-01 01:10:00+01:00     NaN     NaN     NaN     NaN  ...   \n",
       "2014-01-01 01:20:00+01:00     NaN     NaN     NaN     NaN  ...   \n",
       "2014-01-01 01:30:00+01:00     NaN     NaN     NaN     NaN  ...   \n",
       "2014-01-01 01:40:00+01:00     NaN     NaN     NaN     NaN  ...   \n",
       "\n",
       "                           SO.TR.MV.242.VS  SO.TR.PT.443  SO.TR.PT.444  \\\n",
       "2014-01-01 01:00:00+01:00              NaN           NaN           NaN   \n",
       "2014-01-01 01:10:00+01:00              NaN           NaN           NaN   \n",
       "2014-01-01 01:20:00+01:00              NaN           NaN           NaN   \n",
       "2014-01-01 01:30:00+01:00              NaN           NaN           NaN   \n",
       "2014-01-01 01:40:00+01:00              NaN           NaN           NaN   \n",
       "\n",
       "                           SO.TR.TT.419  SO.TR.TT.420  SO.TR.TT.421  \\\n",
       "2014-01-01 01:00:00+01:00           NaN           NaN           NaN   \n",
       "2014-01-01 01:10:00+01:00           NaN           NaN           NaN   \n",
       "2014-01-01 01:20:00+01:00           NaN           NaN           NaN   \n",
       "2014-01-01 01:30:00+01:00           NaN           NaN           NaN   \n",
       "2014-01-01 01:40:00+01:00           NaN           NaN           NaN   \n",
       "\n",
       "                           SO.TR.TT.430  SO.VP.TT.454  temp_dry  radia_glob  \n",
       "2014-01-01 01:00:00+01:00           NaN           NaN       4.2         0.0  \n",
       "2014-01-01 01:10:00+01:00           NaN           NaN       4.2         0.0  \n",
       "2014-01-01 01:20:00+01:00           NaN           NaN       4.1         0.0  \n",
       "2014-01-01 01:30:00+01:00           NaN           NaN       4.1         0.0  \n",
       "2014-01-01 01:40:00+01:00           NaN           NaN       4.0         0.0  \n",
       "\n",
       "[5 rows x 157 columns]"
      ]
     },
     "execution_count": 17,
     "metadata": {},
     "output_type": "execute_result"
    }
   ],
   "source": [
    "# Read data from pickle to dataframe\n",
    "df = pd.read_pickle('Dronninglund_data_2014-2020_20210209.pkl')\n",
    "# Print the first 5 rows of the dataframe\n",
    "df.head()"
   ]
  },
  {
   "cell_type": "markdown",
   "id": "2a0d68ed-b20d-4d39-b0ea-77b6c3146152",
   "metadata": {},
   "source": [
    "Create functions for calculating the water density and specific heat."
   ]
  },
  {
   "cell_type": "code",
   "execution_count": 19,
   "id": "f25b5903-88c6-4cc5-8b52-dfd73b941ea5",
   "metadata": {},
   "outputs": [],
   "source": [
    "def density_water(T):\n",
    "    '''Calculates density (rho) of water in kg/m^3 based on fluid temperature (T) nearest the flow meter in degrees Celsius'''\n",
    "    rho = (999.85+5.332*(10**-2)*T-7.564*(10**-3)*(T**2)+4.323*(10**-5)*(T**3)-1.673*(10**-7)*(T**4)+2.447*(10**-10)*(T**5))\n",
    "    return(rho)\n",
    "\n",
    "def specific_heat_water(T):\n",
    "    '''Calculates specific heat (cp) of water in J/(kg K) based on mean fluid temperature (T) in degrees Celsius'''\n",
    "    cp = (4.2184-2.8218*(10**-3)*T+7.3478*(10**-5)*(T**2)-9.4712*(10**-7)*(T**3)+7.2869*(10**-9)*(T**4)-2.8098*(10**-11)*(T**5)\n",
    "          +4.4008*(10**-14)*(T**6))*1000\n",
    "    return(cp)"
   ]
  },
  {
   "cell_type": "markdown",
   "id": "182e7398-29d7-411e-b2ce-ed7a21fb9c40",
   "metadata": {},
   "source": [
    "Calculation for solar energy into and out of the storage. Note that \".pro\" is the produced energy for the solar field, \".afbl\" is the energy used for night cooling of the storage, and \".frost\" is the energy used for defrosting the solar field in the winter."
   ]
  },
  {
   "cell_type": "code",
   "execution_count": 20,
   "id": "624053ce-95fa-4213-a545-117aa9d919d5",
   "metadata": {},
   "outputs": [],
   "source": [
    "# Q_solar_1 and 2 are the net solar energy entering the storage\n",
    "df['Q_solar_1'] = df['so.f1.pro.energi.t'.upper()].diff() - df['so.f1.afbl.energi.t'.upper()].diff() - df['so.f1.frost.energi.t'.upper()].diff()\n",
    "df['Q_solar_2'] = df['so.f2.pro.energi.t'.upper()].diff() - df['so.f2.afbl.energi.t'.upper()].diff() - df['so.f2.frost.energi.t'.upper()].diff()\n",
    "\n",
    "# Q_transmission is the energy transfered out of the storgae\n",
    "df['Q_transmission'] = (df['SO.LA.FT.469']/3600 * # Flow rate converted from m3/hr to m3/s\n",
    "                        (df['SO.LA.TT.417']-df['SO.LA.TT.418']) * # Temperature difference\n",
    "                        df['SO.LA.TT.418'].apply(density_water) * # Density at flow meter location\n",
    "                        (0.5*df['SO.LA.TT.417'] + 0.5*df['SO.LA.TT.418']).apply(specific_heat_water) # Average temperature for finding the specific heat\n",
    "                       )/6*10**-6 # Conversion to MWh"
   ]
  },
  {
   "cell_type": "markdown",
   "id": "8fb8c06e-7701-42fe-aa4e-6ea8224c2a1c",
   "metadata": {},
   "source": [
    "Calculation of the storage energy using the storage energy flows."
   ]
  },
  {
   "cell_type": "code",
   "execution_count": 21,
   "id": "47ec9f5f-fa19-4b28-9e80-2c0722b85a28",
   "metadata": {},
   "outputs": [],
   "source": [
    "df['Q_storage_net'] = df['Q_solar_1'] + df['Q_solar_2'] - df['Q_transmission']\n",
    "\n",
    "# Get the charged and discharged energy\n",
    "df['Q_ch_net'] = df['Q_storage_net'].clip(lower=0)\n",
    "df['Q_dis_net'] = -df['Q_storage_net'].clip(upper=0)"
   ]
  },
  {
   "cell_type": "markdown",
   "id": "472dc2e6-ae61-411e-aa35-d60d277eb218",
   "metadata": {},
   "source": [
    "Create dictionary for renaming the sensors."
   ]
  },
  {
   "cell_type": "code",
   "execution_count": 22,
   "id": "photographic-spray",
   "metadata": {},
   "outputs": [],
   "source": [
    "storage_sensors_dict = {\n",
    "    'SO.LA.TT.414': 'T_top',\n",
    "    'SO.LA.TT.415': 'T_mid',\n",
    "    'SO.LA.TT.416': 'T_bot',\n",
    "    'SO.LA.FT.466': 'F_top_vol', # flow in m3/hr\n",
    "    'SO.LA.FT.467': 'F_mid_vol', # flow in m3/hr\n",
    "    'SO.LA.FT.468': 'F_bot_vol', # flow in m3/hr\n",
    "    'SO.LA.FT.466.RETN': 'FR_top',\n",
    "    'SO.LA.FT.467.RETN': 'FR_mid',\n",
    "    'SO.LA.FT.468.RETN': 'FR_bot'}\n",
    "\n",
    "df = df.rename(columns=storage_sensors_dict)"
   ]
  },
  {
   "cell_type": "markdown",
   "id": "bf9f7c66-df63-45d0-8ee2-8a21bb0719e9",
   "metadata": {},
   "source": [
    "Convert flow rates to kg/hr."
   ]
  },
  {
   "cell_type": "code",
   "execution_count": 23,
   "id": "64d84c80",
   "metadata": {},
   "outputs": [],
   "source": [
    "df['F_top'] = df['F_top_vol'] * density_water(df['T_top'])\n",
    "df['F_mid'] = df['F_mid_vol'] * density_water(df['T_mid'])\n",
    "df['F_bot'] = df['F_bot_vol'] * density_water(df['T_bot'])"
   ]
  },
  {
   "cell_type": "markdown",
   "id": "considerable-circulation",
   "metadata": {},
   "source": [
    "Using the measured flow for each diffuser but calculating the flow direction from scratch"
   ]
  },
  {
   "cell_type": "code",
   "execution_count": 24,
   "id": "adjustable-forest",
   "metadata": {},
   "outputs": [],
   "source": [
    "df2 = pd.DataFrame() # flows for each diffuser for each scenario 3x6-columns\n",
    "df_deltas = pd.DataFrame() # flow mismatch/delta for each scenario  6-columns\n",
    "df_energies = pd.DataFrame() # energy balance for each scenario  6-columns\n",
    "fac = 4190 /3600 *10**-6  /6 # factor for converting energy to MWh\n",
    "\n",
    "for i in ['100', '110', '101', '011', '010', '001']: # all possible flow direction scenarios using 0 and 1 \n",
    "    for j, d in enumerate(['top', 'mid', 'bot']):\n",
    "        df2[d+i] = (int(i[j])*2-1) * df['F_' + d] # flowrate and direction for each scenario (positive/negative)\n",
    "    \n",
    "    df_deltas[i] = df2['top' + i] + df2['mid' + i] + df2['bot' + i] # flow missmatch for each direction scenario\n",
    "    \n",
    "    df_energies[i] = (df['T_top']*df2['top'+i] + df['T_mid']*df2['mid'+i] + df['T_bot']*df2['bot'+i])*fac - df['Q_storage_net'] # energy missmatch for each direction scenario\n",
    "\n",
    "\n",
    "# addition of the noramlized values for flow missmatch and energy missmatch for all scenarios\n",
    "df_comb_mismatch = (df_energies.abs()/df_energies.std().mean()).add(df_deltas.abs()/df_deltas.std().mean())\n",
    "\n",
    "# find the minimum missmatch for energy and flow for each timestep\n",
    "df_min_label_comb = df_comb_mismatch.abs().idxmin(axis=1)\n",
    "\n",
    "# Calculate the final flows including directions\n",
    "for j, f in enumerate(['F_top', 'F_mid', 'F_bot']):\n",
    "    df[f + 'q'] = (pd.to_numeric(df_min_label_comb.str[j])*2-1)*df[f]"
   ]
  },
  {
   "cell_type": "markdown",
   "id": "4089060c-d0da-4f52-bb95-e9913aa9dc6c",
   "metadata": {},
   "source": [
    "Energy calculation for each diffuser using the new flow rates."
   ]
  },
  {
   "cell_type": "code",
   "execution_count": 25,
   "id": "medical-clock",
   "metadata": {},
   "outputs": [],
   "source": [
    "T_ref = 10 # lowest observed temperature for energy calculation\n",
    "\n",
    "df['Q_top_n'] = df['F_topq']* (df['T_top']-T_ref)* fac\n",
    "df['Q_mid_n'] = df['F_midq']* (df['T_mid']-T_ref)* fac\n",
    "df['Q_bot_n'] = df['F_botq']* (df['T_bot']-T_ref)* fac"
   ]
  },
  {
   "cell_type": "markdown",
   "id": "focal-thanksgiving",
   "metadata": {},
   "source": [
    "Calculate the flow of the bottom diffuser using the other two for ensuring flow balance. It has to be noted that the flow rate of the middle diffuser is the only one that is measured in Dronninglund using a flow meter. For this reason, in order to ensure flow balance in the storage, it was decided to calculate the flow of the bottom or the top diffuser using the flows of the othr two. It was chosen to calculate the bottom diffuser flow using the other two since this gave the best results compared to the altenatives."
   ]
  },
  {
   "cell_type": "code",
   "execution_count": 26,
   "id": "federal-shadow",
   "metadata": {},
   "outputs": [],
   "source": [
    "df['F_bot_calc'] = -(df['F_topq'] + df['F_midq'])\n",
    "\n",
    "# Calculate the energy charged/discharged from the bottom diffuser\n",
    "df['Q_bot_calc'] = df['F_bot_calc'] * (df['T_bot']-T_ref) * fac\n",
    "\n",
    "# Calculated charge and discharge energy\n",
    "df['Q_ch_bot_n'] = df[['Q_top_n','Q_mid_n','Q_bot_calc']].sum(axis='columns').clip(lower=0)\n",
    "df['Q_dis_bot_n'] = -df[['Q_top_n','Q_mid_n','Q_bot_calc']].sum(axis='columns').clip(upper=0)"
   ]
  },
  {
   "cell_type": "markdown",
   "id": "a34e38da-fe84-45a0-834b-ef46c38bc30d",
   "metadata": {},
   "source": [
    "Create a pot to observe the monthly charged/discharged energy calculated using the calculated flow rates."
   ]
  },
  {
   "cell_type": "code",
   "execution_count": 27,
   "id": "b8e1d41d-0df3-4764-a48e-5774cdab115a",
   "metadata": {},
   "outputs": [
    {
     "data": {
      "text/plain": [
       "<matplotlib.legend.Legend at 0x17fd555da30>"
      ]
     },
     "execution_count": 27,
     "metadata": {},
     "output_type": "execute_result"
    },
    {
     "data": {
      "image/png": "[encoded data removed]",
      "text/plain": [
       "<Figure size 1008x432 with 1 Axes>"
      ]
     },
     "metadata": {
      "needs_background": "light"
     },
     "output_type": "display_data"
    }
   ],
   "source": [
    "# Make new dataframe for the plot in order not to change the original dataframe\n",
    "dfc = df.resample('1M').sum()\n",
    "\n",
    "fig, ax = plt.subplots(figsize=(14,6))\n",
    "ax.bar(dfc.index, dfc['Q_ch_bot_n'], width=pd.Timedelta(days=25), label='Charged')\n",
    "ax.bar(dfc.index, -dfc['Q_dis_bot_n'], width=pd.Timedelta(days=25), label='Discharged')\n",
    "ax.set_ylabel('Heat [MWh]')\n",
    "ax.grid()\n",
    "ax.legend()"
   ]
  },
  {
   "cell_type": "markdown",
   "id": "shaped-commissioner",
   "metadata": {},
   "source": [
    "Calculation of the flow rates using the provided flow rates and directions in the dataset for comparison to the suggested method."
   ]
  },
  {
   "cell_type": "code",
   "execution_count": 28,
   "id": "excessive-lambda",
   "metadata": {},
   "outputs": [],
   "source": [
    "# Make the flow directions from [0,1] to [-1,1]\n",
    "df['FR_top_c'] = df['FR_top']*-2+1\n",
    "df['FR_mid_c'] = df['FR_mid']*-2+1\n",
    "df['FR_bot_c'] = df['FR_bot']*-2+1"
   ]
  },
  {
   "cell_type": "markdown",
   "id": "b76592c8-0a27-4009-91a4-8d721cf70abe",
   "metadata": {},
   "source": [
    "Energy calculation for each diffuser using the provided flow rates and directions."
   ]
  },
  {
   "cell_type": "code",
   "execution_count": 29,
   "id": "rapid-error",
   "metadata": {},
   "outputs": [],
   "source": [
    "df['Q_top'] = df['F_top']/3600 *4190*(df['T_top']-T_ref)*10**-6 /6 * df['FR_top_c'] \n",
    "df['Q_mid'] = df['F_mid']/3600 *4190*(df['T_mid']-T_ref)*10**-6 /6 * df['FR_mid_c']\n",
    "df['Q_bot'] = df['F_bot']/3600 *4190*(df['T_bot']-T_ref)*10**-6 /6 * df['FR_bot_c']"
   ]
  },
  {
   "cell_type": "markdown",
   "id": "ef195359-1026-433f-b0ff-81c4a492c5e7",
   "metadata": {},
   "source": [
    "Charge and discharge energy for the provided flow rates and directions."
   ]
  },
  {
   "cell_type": "code",
   "execution_count": 30,
   "id": "stable-inside",
   "metadata": {},
   "outputs": [],
   "source": [
    "# Charge energy\n",
    "df['Q_ch_dir'] = df[['Q_top','Q_mid','Q_bot']].sum(axis='columns').clip(lower=0)\n",
    "# Discharge energy\n",
    "df['Q_dis_dir'] = -df[['Q_top','Q_mid','Q_bot']].sum(axis='columns').clip(upper=0)"
   ]
  },
  {
   "cell_type": "markdown",
   "id": "2a77734c-7545-4ed9-9b15-0c1d9cdd1603",
   "metadata": {},
   "source": [
    "Create a pot to observe the monthly charged/discharged energy calculated using the calculated flow rates."
   ]
  },
  {
   "cell_type": "code",
   "execution_count": 31,
   "id": "musical-contribution",
   "metadata": {
    "tags": []
   },
   "outputs": [
    {
     "data": {
      "text/plain": [
       "<matplotlib.legend.Legend at 0x17fd46e81c0>"
      ]
     },
     "execution_count": 31,
     "metadata": {},
     "output_type": "execute_result"
    },
    {
     "data": {
      "image/png": "[encoded data removed]",
      "text/plain": [
       "<Figure size 1008x432 with 1 Axes>"
      ]
     },
     "metadata": {
      "needs_background": "light"
     },
     "output_type": "display_data"
    }
   ],
   "source": [
    "# Make new dataframe for the plot in order not to change the original dataframe\n",
    "dfp = df.resample('1M').sum()\n",
    "\n",
    "fig, ax = plt.subplots(figsize=(14,6))\n",
    "ax.bar(dfp.index, dfp['Q_ch_dir'], width=pd.Timedelta(days=25), label='Charged')\n",
    "ax.bar(dfp.index, -dfp['Q_dis_dir'], width=pd.Timedelta(days=25), label='Discharged')\n",
    "ax.set_ylabel('Heat [MWh]')\n",
    "ax.grid()\n",
    "ax.legend()"
   ]
  },
  {
   "cell_type": "markdown",
   "id": "severe-imperial",
   "metadata": {},
   "source": [
    "#### Comparison of charged and discharged energy with the provided values"
   ]
  },
  {
   "cell_type": "code",
   "execution_count": 32,
   "id": "8877f4cb",
   "metadata": {},
   "outputs": [
    {
     "data": {
      "image/png": "[encoded data removed]",
      "text/plain": [
       "<Figure size 288x468 with 4 Axes>"
      ]
     },
     "metadata": {
      "needs_background": "light"
     },
     "output_type": "display_data"
    }
   ],
   "source": [
    "al = 0.3 # Transparency index for the dots\n",
    "\n",
    "freq = '1h' # Frequency of the scatter points\n",
    "\n",
    "fig, axes = plt.subplots(nrows=2, ncols=2, figsize=(4,6.5), sharex='col', sharey=False, subplot_kw=dict(aspect='equal'))\n",
    "axes = axes.flatten()\n",
    "\n",
    "# Comparison of charge rates based on provided flow directions\n",
    "axes[0].scatter(df['Q_ch_net'].resample(freq).mean(), df['Q_ch_dir'].resample(freq).mean(), s=2, alpha=al, zorder=2, rasterized=True)\n",
    "axes[1].scatter(df['Q_dis_net'].resample(freq).mean(), df['Q_dis_dir'].resample(freq).mean(), s=2, alpha=al, zorder=2, rasterized=True)\n",
    "axes[0].set_title('Charged energy\\n(provided directions)')\n",
    "axes[1].set_title('Discharged energy\\n(provided directions)')\n",
    "\n",
    "# Comparison of charge rates bassed on suggested method - calculated\n",
    "axes[2].scatter(df['Q_ch_net'].resample(freq).mean(), df['Q_ch_bot_n'].resample(freq).mean(), s=2, alpha=al, zorder=2, rasterized=True)\n",
    "axes[3].scatter(df['Q_dis_net'].resample(freq).mean(), df['Q_dis_bot_n'].resample(freq).mean(), s=2, alpha=al, zorder=2, rasterized=True)\n",
    "axes[2].set_title('Charged energy\\n(calculated directions)')\n",
    "axes[3].set_title('Discharged energy\\n(calculated directions)')\n",
    "\n",
    "\n",
    "for i, ax in enumerate(axes):\n",
    "    if i % 2 == 0:\n",
    "        ax.set_xlim(0, 5)\n",
    "        ax.set_ylim(0, 5)\n",
    "    else:\n",
    "        ax.set_xlim(0, 2)\n",
    "        ax.set_ylim(0, 2)\n",
    "    ax.grid(alpha=0.5)\n",
    "\n",
    "for i in range(0,4):\n",
    "    axes[i].set_ylabel('Calculated energy [MWh]')\n",
    "\n",
    "for i in [2,3]:\n",
    "    axes[i].set_xlabel('Measured energy [MWh]')\n",
    "\n",
    "for i in [1,3]:\n",
    "    axes[i].set_yticks(np.arange(0,2.5,0.5))\n",
    "    axes[i].set_xticks(np.arange(0,2.5,0.5))\n",
    "\n",
    "for i in [0,2]:\n",
    "    axes[i].set_yticks(np.arange(0,6,1))\n",
    "    axes[i].set_xticks(np.arange(0,6,1))\n",
    "\n",
    "fig.subplots_adjust(wspace=0.5, hspace=-0.4)"
   ]
  }
 ],
 "metadata": {
  "kernelspec": {
   "display_name": "Python 3 (ipykernel)",
   "language": "python",
   "name": "python3"
  },
  "language_info": {
   "codemirror_mode": {
    "name": "ipython",
    "version": 3
   },
   "file_extension": ".py",
   "mimetype": "text/x-python",
   "name": "python",
   "nbconvert_exporter": "python",
   "pygments_lexer": "ipython3",
   "version": "3.9.7"
  }
 },
 "nbformat": 4,
 "nbformat_minor": 5
}
